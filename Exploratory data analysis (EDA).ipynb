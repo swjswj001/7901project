{
 "cells": [
  {
   "cell_type": "code",
   "execution_count": 5,
   "id": "9d9f767d",
   "metadata": {
    "ExecuteTime": {
     "end_time": "2022-09-21T18:12:56.285059Z",
     "start_time": "2022-09-21T18:12:56.028891Z"
    }
   },
   "outputs": [],
   "source": [
    "import pandas as pd\n",
    "import matplotlib.pyplot as plt"
   ]
  },
  {
   "cell_type": "code",
   "execution_count": 375,
   "id": "a7f915f7",
   "metadata": {
    "ExecuteTime": {
     "end_time": "2022-09-22T09:15:37.454557Z",
     "start_time": "2022-09-22T09:15:37.446115Z"
    }
   },
   "outputs": [],
   "source": [
    "df = pd.read_csv('./df_final.csv')"
   ]
  },
  {
   "cell_type": "code",
   "execution_count": 4,
   "id": "b356159a",
   "metadata": {
    "ExecuteTime": {
     "end_time": "2022-09-21T18:12:30.934817Z",
     "start_time": "2022-09-21T18:12:30.926844Z"
    }
   },
   "outputs": [
    {
     "data": {
      "text/plain": [
       "launchpad_name\n",
       "CCSFS SLC 40    92\n",
       "KSC LC 39A      48\n",
       "VAFB SLC 4E     26\n",
       "Name: launchpad_name, dtype: int64"
      ]
     },
     "execution_count": 4,
     "metadata": {},
     "output_type": "execute_result"
    }
   ],
   "source": [
    "#Calculate the number of launches on each launchpad.\n",
    "df['launchpad_name'].groupby(df['launchpad_name']).count()"
   ]
  },
  {
   "cell_type": "code",
   "execution_count": 65,
   "id": "752cae28",
   "metadata": {
    "ExecuteTime": {
     "end_time": "2022-09-21T19:15:23.317277Z",
     "start_time": "2022-09-21T19:15:23.289772Z"
    }
   },
   "outputs": [
    {
     "name": "stdout",
     "output_type": "stream",
     "text": [
      "Using matplotlib backend: QtAgg\n"
     ]
    },
    {
     "data": {
      "text/plain": [
       "Text(0.5, 1.0, 'The number of launches on each launchpad')"
      ]
     },
     "execution_count": 65,
     "metadata": {},
     "output_type": "execute_result"
    }
   ],
   "source": [
    "import PyQt5\n",
    "%matplotlib \n",
    "plt.hist(df['launchpad_name'])\n",
    "plt.ylim(0,100)\n",
    "plt.xlabel('launchpad type')\n",
    "plt.ylabel('counts')\n",
    "plt.title('The number of launches on each launchpad')"
   ]
  },
  {
   "cell_type": "code",
   "execution_count": 82,
   "id": "70761b32",
   "metadata": {
    "ExecuteTime": {
     "end_time": "2022-09-21T19:23:01.495483Z",
     "start_time": "2022-09-21T19:23:01.489504Z"
    }
   },
   "outputs": [],
   "source": [
    "lan = ['CCSFS SLC 40','KSC LC 39A','VAFB SLC 4E']\n",
    "minlan= []\n",
    "maxlan = []\n",
    "for i in lan:\n",
    "    minlan.append(df[df['launchpad_name']==i]['PayloadMass'].min())\n",
    "    maxlan.append(df[df['launchpad_name']==i]['PayloadMass'].max())"
   ]
  },
  {
   "cell_type": "code",
   "execution_count": 140,
   "id": "e246dc92",
   "metadata": {
    "ExecuteTime": {
     "end_time": "2022-09-21T20:22:00.506725Z",
     "start_time": "2022-09-21T20:22:00.475412Z"
    }
   },
   "outputs": [
    {
     "data": {
      "text/plain": [
       "Text(0.5, 1.0, 'Range of payload mass for each launch site')"
      ]
     },
     "execution_count": 140,
     "metadata": {},
     "output_type": "execute_result"
    }
   ],
   "source": [
    "plt.boxplot([df[df['launchpad_name']==i]['PayloadMass'] for i in lan],labels=lan,showmeans=True,meanline=True)\n",
    "plt.ylabel('Payload Mass')\n",
    "plt.title('Range of payload mass for each launch site')"
   ]
  },
  {
   "cell_type": "code",
   "execution_count": 121,
   "id": "9502ec7b",
   "metadata": {
    "ExecuteTime": {
     "end_time": "2022-09-21T20:03:05.578949Z",
     "start_time": "2022-09-21T20:03:05.569979Z"
    }
   },
   "outputs": [
    {
     "name": "stdout",
     "output_type": "stream",
     "text": [
      "count       92.000000\n",
      "mean      7614.950177\n",
      "std       5424.879274\n",
      "min        350.000000\n",
      "25%       2713.250000\n",
      "50%       5650.000000\n",
      "75%      13260.000000\n",
      "max      15600.000000\n",
      "Name: PayloadMass, dtype: float64\n",
      "count       48.000000\n",
      "mean      9267.352378\n",
      "std       5040.139360\n",
      "min        330.000000\n",
      "25%       3692.250000\n",
      "50%      11434.333333\n",
      "75%      13260.000000\n",
      "max      15600.000000\n",
      "Name: PayloadMass, dtype: float64\n",
      "count       26.000000\n",
      "mean      7997.047981\n",
      "std       5125.890701\n",
      "min        475.000000\n",
      "25%       2350.000000\n",
      "50%       9600.000000\n",
      "75%      13260.000000\n",
      "max      15600.000000\n",
      "Name: PayloadMass, dtype: float64\n"
     ]
    }
   ],
   "source": [
    "for i in lan:\n",
    "    print(df[df['launchpad_name']==i]['PayloadMass'].describe())"
   ]
  },
  {
   "cell_type": "code",
   "execution_count": 48,
   "id": "f05a527d",
   "metadata": {
    "ExecuteTime": {
     "end_time": "2022-09-21T19:05:08.556336Z",
     "start_time": "2022-09-21T19:05:08.550834Z"
    }
   },
   "outputs": [
    {
     "data": {
      "text/plain": [
       "landing_success\n",
       "False     3\n",
       "True     23\n",
       "Name: landing_success, dtype: int64"
      ]
     },
     "execution_count": 48,
     "metadata": {},
     "output_type": "execute_result"
    }
   ],
   "source": [
    "lan = ['CCSFS SLC 40','KSC LC 39A','VAFB SLC 4E']\n",
    "df[df['launchpad_name']=='VAFB SLC 4E'].groupby('landing_success')['landing_success'].count()\n",
    "#plt.hist(df[df['launchpad_name']=='CCSFS SLC 40']['landing_success'])"
   ]
  },
  {
   "cell_type": "code",
   "execution_count": 139,
   "id": "9a8a1dfe",
   "metadata": {
    "ExecuteTime": {
     "end_time": "2022-09-21T20:20:14.263792Z",
     "start_time": "2022-09-21T20:20:14.233065Z"
    }
   },
   "outputs": [
    {
     "data": {
      "text/plain": [
       "(array([15., 31., 31.,  1.,  1., 11.,  1., 53., 13.,  5.,  2.,  2.]),\n",
       " array([ 0.        ,  0.91666667,  1.83333333,  2.75      ,  3.66666667,\n",
       "         4.58333333,  5.5       ,  6.41666667,  7.33333333,  8.25      ,\n",
       "         9.16666667, 10.08333333, 11.        ]),\n",
       " <BarContainer object of 12 artists>)"
      ]
     },
     "execution_count": 139,
     "metadata": {},
     "output_type": "execute_result"
    }
   ],
   "source": [
    "plt.hist(df['orbit'],bins=12)"
   ]
  },
  {
   "cell_type": "code",
   "execution_count": 147,
   "id": "efa953f1",
   "metadata": {
    "ExecuteTime": {
     "end_time": "2022-09-21T20:26:26.429397Z",
     "start_time": "2022-09-21T20:26:26.424413Z"
    }
   },
   "outputs": [],
   "source": [
    "orbir_index = df['orbit'].groupby(df['orbit']).count().index"
   ]
  },
  {
   "cell_type": "code",
   "execution_count": 164,
   "id": "bbdd0539",
   "metadata": {
    "ExecuteTime": {
     "end_time": "2022-09-21T20:43:19.752611Z",
     "start_time": "2022-09-21T20:43:19.709721Z"
    }
   },
   "outputs": [
    {
     "data": {
      "text/plain": [
       "Text(0.5, 1.0, 'Range of payload mass for each Orbit')"
      ]
     },
     "execution_count": 164,
     "metadata": {},
     "output_type": "execute_result"
    }
   ],
   "source": [
    "#The range of payload mass for each type of orbit\n",
    "plt.boxplot([df[df['orbit']==i]['PayloadMass'] for i in orbir_index],labels=orbir_index,showmeans=True,meanline=True)\n",
    "plt.xlabel('Orbit Type')\n",
    "plt.ylabel('Payload Mass')\n",
    "plt.title('Range of payload mass for each Orbit')"
   ]
  },
  {
   "cell_type": "code",
   "execution_count": 154,
   "id": "42b1e8e4",
   "metadata": {
    "ExecuteTime": {
     "end_time": "2022-09-21T20:40:21.732264Z",
     "start_time": "2022-09-21T20:40:21.448080Z"
    }
   },
   "outputs": [],
   "source": [
    "import seaborn as sns"
   ]
  },
  {
   "cell_type": "code",
   "execution_count": 192,
   "id": "16440c7e",
   "metadata": {
    "ExecuteTime": {
     "end_time": "2022-09-21T20:54:02.609409Z",
     "start_time": "2022-09-21T20:54:02.596443Z"
    }
   },
   "outputs": [
    {
     "ename": "ValueError",
     "evalue": "not enough values to unpack (expected 2, got 1)",
     "output_type": "error",
     "traceback": [
      "\u001b[1;31m---------------------------------------------------------------------------\u001b[0m",
      "\u001b[1;31mValueError\u001b[0m                                Traceback (most recent call last)",
      "Input \u001b[1;32mIn [192]\u001b[0m, in \u001b[0;36m<cell line: 1>\u001b[1;34m()\u001b[0m\n\u001b[0;32m      2\u001b[0m F\u001b[38;5;241m=\u001b[39m\u001b[38;5;241m0\u001b[39m\n\u001b[0;32m      3\u001b[0m T\u001b[38;5;241m=\u001b[39m\u001b[38;5;241m0\u001b[39m\n\u001b[1;32m----> 4\u001b[0m F,T \u001b[38;5;241m=\u001b[39m df[df[\u001b[38;5;124m'\u001b[39m\u001b[38;5;124morbit\u001b[39m\u001b[38;5;124m'\u001b[39m]\u001b[38;5;241m==\u001b[39mi][\u001b[38;5;124m'\u001b[39m\u001b[38;5;124mlanding_success\u001b[39m\u001b[38;5;124m'\u001b[39m]\u001b[38;5;241m.\u001b[39mgroupby(df[df[\u001b[38;5;124m'\u001b[39m\u001b[38;5;124morbit\u001b[39m\u001b[38;5;124m'\u001b[39m]\u001b[38;5;241m==\u001b[39mi][\u001b[38;5;124m'\u001b[39m\u001b[38;5;124mlanding_success\u001b[39m\u001b[38;5;124m'\u001b[39m])\u001b[38;5;241m.\u001b[39mcount()\u001b[38;5;241m.\u001b[39mvalues\n\u001b[0;32m      5\u001b[0m rate \u001b[38;5;241m=\u001b[39m F\u001b[38;5;241m/\u001b[39m(F\u001b[38;5;241m+\u001b[39mT)\n\u001b[0;32m      6\u001b[0m plt\u001b[38;5;241m.\u001b[39mbar(i,rate)\n",
      "\u001b[1;31mValueError\u001b[0m: not enough values to unpack (expected 2, got 1)"
     ]
    }
   ],
   "source": [
    "for i in orbir_index:\n",
    "    F=0\n",
    "    T=0\n",
    "    F,T = df[df['orbit']==i]['landing_success'].groupby(df[df['orbit']==i]['landing_success']).count().values\n",
    "    rate = F/(F+T)\n",
    "\n",
    "    plt.bar(i,rate)"
   ]
  },
  {
   "cell_type": "code",
   "execution_count": 291,
   "id": "b4d151c0",
   "metadata": {
    "ExecuteTime": {
     "end_time": "2022-09-21T21:35:25.264457Z",
     "start_time": "2022-09-21T21:35:25.249495Z"
    }
   },
   "outputs": [
    {
     "data": {
      "text/plain": [
       "Text(0.5, 1.0, 'Success rate VS Orbit type')"
      ]
     },
     "execution_count": 291,
     "metadata": {},
     "output_type": "execute_result"
    }
   ],
   "source": [
    "orb = ['LEO','ISS','GTO','ES-L1','HEO','SSO','SO','VLEO','PO','MEO','GEO','TLI']\n",
    "for i in orbir_index:\n",
    "    x = df[df['orbit']==i]['landing_success']\n",
    "    f = 0\n",
    "    t = 0\n",
    "    for tf in x:\n",
    "        if tf:\n",
    "            t+=1\n",
    "        else:\n",
    "            f+=1\n",
    "    plt.bar(i,t/(t+f)*100)\n",
    "    #print(t/(t+f))\n",
    "plt.xlabel('Orbit Type')\n",
    "plt.ylabel('Success rate % ')\n",
    "plt.title('Success rate VS Orbit type')"
   ]
  },
  {
   "cell_type": "code",
   "execution_count": 293,
   "id": "3e5bfe67",
   "metadata": {
    "ExecuteTime": {
     "end_time": "2022-09-21T21:35:32.411593Z",
     "start_time": "2022-09-21T21:35:32.402603Z"
    },
    "scrolled": true
   },
   "outputs": [
    {
     "data": {
      "text/plain": [
       "(array([ 3., 31.,  1., 31., 15.,  5., 13.,  1., 11., 55.]),\n",
       " array([ 0. ,  1.1,  2.2,  3.3,  4.4,  5.5,  6.6,  7.7,  8.8,  9.9, 11. ]),\n",
       " <BarContainer object of 10 artists>)"
      ]
     },
     "execution_count": 293,
     "metadata": {},
     "output_type": "execute_result"
    }
   ],
   "source": [
    "plt.hist(df['orbit'],color='gray',histtype='bar',rwidth=1.0)\n",
    "# plt.xlabel('Orbit Type')\n",
    "# plt.ylabel('COUNT ')\n",
    "# plt.title('COUNT VS Orbit type')"
   ]
  },
  {
   "cell_type": "code",
   "execution_count": 465,
   "id": "3e4d890d",
   "metadata": {
    "ExecuteTime": {
     "end_time": "2022-09-22T12:05:22.673865Z",
     "start_time": "2022-09-22T12:05:22.634489Z"
    }
   },
   "outputs": [
    {
     "data": {
      "text/plain": [
       "Text(0.5, 1.0, 'The percentage of launches orbit')"
      ]
     },
     "execution_count": 465,
     "metadata": {},
     "output_type": "execute_result"
    }
   ],
   "source": [
    "dat = df['orbit'].groupby(df['orbit']).count()\n",
    "plt.pie(dat,labels=dat.index,autopct='%3.1f%%')\n",
    "plt.title('The percentage of launches orbit')"
   ]
  },
  {
   "cell_type": "code",
   "execution_count": 331,
   "id": "65343a72",
   "metadata": {
    "ExecuteTime": {
     "end_time": "2022-09-21T22:12:10.839165Z",
     "start_time": "2022-09-21T22:12:10.835178Z"
    }
   },
   "outputs": [
    {
     "data": {
      "text/plain": [
       "'2010-06-04T18:45:00'"
      ]
     },
     "execution_count": 331,
     "metadata": {},
     "output_type": "execute_result"
    }
   ],
   "source": [
    "string[:-5]"
   ]
  },
  {
   "cell_type": "code",
   "execution_count": 343,
   "id": "777b5896",
   "metadata": {
    "ExecuteTime": {
     "end_time": "2022-09-21T22:18:29.377099Z",
     "start_time": "2022-09-21T22:18:29.373112Z"
    }
   },
   "outputs": [],
   "source": [
    "import datetime as dt\n",
    "string = df['date_utc'][0]\n",
    "s = string\n",
    "d = dt.datetime.strptime(s,\"%Y-%m-%dT%H:%M:%S.%fZ\")"
   ]
  },
  {
   "cell_type": "code",
   "execution_count": 357,
   "id": "39b479a4",
   "metadata": {
    "ExecuteTime": {
     "end_time": "2022-09-22T09:07:23.790057Z",
     "start_time": "2022-09-22T09:07:23.786069Z"
    }
   },
   "outputs": [
    {
     "data": {
      "text/plain": [
       "2010"
      ]
     },
     "execution_count": 357,
     "metadata": {},
     "output_type": "execute_result"
    }
   ],
   "source": [
    "df['date_utc'].loc[1].year"
   ]
  },
  {
   "cell_type": "code",
   "execution_count": 385,
   "id": "fcbdceb6",
   "metadata": {
    "ExecuteTime": {
     "end_time": "2022-09-22T09:19:05.812281Z",
     "start_time": "2022-09-22T09:19:05.807298Z"
    }
   },
   "outputs": [
    {
     "data": {
      "text/plain": [
       "2012"
      ]
     },
     "execution_count": 385,
     "metadata": {},
     "output_type": "execute_result"
    }
   ],
   "source": [
    "df['date_utc'][1]\n",
    "dt.datetime.strptime(df['date_utc'][1],\"%Y-%m-%dT%H:%M:%S.%fZ\").year"
   ]
  },
  {
   "cell_type": "code",
   "execution_count": 387,
   "id": "80bfad8d",
   "metadata": {
    "ExecuteTime": {
     "end_time": "2022-09-22T09:20:32.977311Z",
     "start_time": "2022-09-22T09:20:32.965351Z"
    }
   },
   "outputs": [],
   "source": [
    "df['year']= None\n",
    "for i in range(len(df)):\n",
    "    df.loc[i,'year']= dt.datetime.strptime(df['date_utc'].loc[i],\"%Y-%m-%dT%H:%M:%S.%fZ\").year"
   ]
  },
  {
   "cell_type": "code",
   "execution_count": 391,
   "id": "c19c100e",
   "metadata": {
    "ExecuteTime": {
     "end_time": "2022-09-22T09:24:07.851423Z",
     "start_time": "2022-09-22T09:24:07.847437Z"
    }
   },
   "outputs": [],
   "source": [
    "year_index = df['year'].unique()"
   ]
  },
  {
   "cell_type": "code",
   "execution_count": 410,
   "id": "52cc9841",
   "metadata": {
    "ExecuteTime": {
     "end_time": "2022-09-22T09:40:07.200570Z",
     "start_time": "2022-09-22T09:40:07.155392Z"
    },
    "scrolled": true
   },
   "outputs": [
    {
     "data": {
      "text/plain": [
       "Text(0.5, 1.0, 'launch success yearly trend')"
      ]
     },
     "execution_count": 410,
     "metadata": {},
     "output_type": "execute_result"
    }
   ],
   "source": [
    "fig,ax1 = plt.subplots()\n",
    "rate = []\n",
    "for i in year_index:\n",
    "    count = 0\n",
    "    t = 0\n",
    "    f = 0\n",
    "    for j in range(len(df)):\n",
    "        if df.loc[j,'year']==i:\n",
    "            count+=1\n",
    "            if df.loc[j,'landing_success']:\n",
    "                t+=1\n",
    "            else:\n",
    "                f+=1\n",
    "    ax1.bar(i,count)\n",
    "    rate.append(t/(t+f))\n",
    "ax2 = ax1.twinx()\n",
    "ax2.plot(year_index,rate)\n",
    "ax1.set_xlabel('year')\n",
    "ax1.set_ylabel('number of launched')\n",
    "ax2.set_ylabel('success rate')\n",
    "plt.title('launch success yearly trend')"
   ]
  },
  {
   "cell_type": "code",
   "execution_count": 436,
   "id": "a7c83dd7",
   "metadata": {
    "ExecuteTime": {
     "end_time": "2022-09-22T10:01:47.400322Z",
     "start_time": "2022-09-22T10:01:47.372817Z"
    }
   },
   "outputs": [
    {
     "data": {
      "text/plain": [
       "Text(0.5, 1.0, 'The percentage of launches on each launchpad')"
      ]
     },
     "execution_count": 436,
     "metadata": {},
     "output_type": "execute_result"
    }
   ],
   "source": [
    "lan = ['CCSFS SLC 40','KSC LC 39A','VAFB SLC 4E']\n",
    "df['launchpad_name'].groupby(df['launchpad_name']).count()\n",
    "plt.pie(df['launchpad_name'].groupby(df['launchpad_name']).count(),labels=lan,autopct='%3.1f%%')\n",
    "plt.title('The percentage of launches on each launchpad')"
   ]
  },
  {
   "cell_type": "code",
   "execution_count": 445,
   "id": "5e5059c1",
   "metadata": {
    "ExecuteTime": {
     "end_time": "2022-09-22T10:10:26.248303Z",
     "start_time": "2022-09-22T10:10:26.197438Z"
    }
   },
   "outputs": [
    {
     "data": {
      "text/plain": [
       "Text(0.5, 1.0, 'The success rate of KSC LC 39A')"
      ]
     },
     "execution_count": 445,
     "metadata": {},
     "output_type": "execute_result"
    }
   ],
   "source": [
    "plt.subplot(2,2,1)\n",
    "plt.pie(df['launchpad_name'].groupby(df['launchpad_name']).count(),labels=lan,autopct='%3.1f%%')\n",
    "plt.title('The percentage of launches on each launchpad')\n",
    "\n",
    "plt.subplot(2,2,2)\n",
    "data1 = df[df['launchpad_name']=='CCSFS SLC 40'].groupby('landing_success')['landing_success'].count()\n",
    "plt.pie(data1,labels=data1.index,autopct='%3.1f%%')\n",
    "plt.title('The success rate of CCSFS SLC 40')\n",
    "\n",
    "plt.subplot(2,2,3)\n",
    "data2 = df[df['launchpad_name']=='VAFB SLC 4E'].groupby('landing_success')['landing_success'].count()\n",
    "plt.pie(data2,labels=data2.index,autopct='%3.1f%%')\n",
    "plt.title('The success rate of VAFB SLC 4E')\n",
    "\n",
    "plt.subplot(2,2,4)\n",
    "data3 = df[df['launchpad_name']=='KSC LC 39A'].groupby('landing_success')['landing_success'].count()\n",
    "plt.pie(data3,labels=data3.index,autopct='%3.1f%%')\n",
    "plt.title('The success rate of KSC LC 39A')"
   ]
  },
  {
   "cell_type": "code",
   "execution_count": 450,
   "id": "bd88516e",
   "metadata": {
    "ExecuteTime": {
     "end_time": "2022-09-22T10:27:35.484206Z",
     "start_time": "2022-09-22T10:27:35.480220Z"
    }
   },
   "outputs": [
    {
     "data": {
      "text/plain": [
       "Index(['Unnamed: 0', 'rocket', 'success', 'flight_number', 'date_utc',\n",
       "       'flight', 'gridfins', 'legs', 'reused_x', 'landing_attempt',\n",
       "       'landing_success', 'landing_type', 'launchpad_name', 'launch_latitude',\n",
       "       'launch_longitude', 'launch_attempts', 'launch_successes', 'block',\n",
       "       'reuse_count', 'rtls_attempts', 'rtls_landings', 'asds_attempts',\n",
       "       'asds_landings', 'serial', 'PayloadType', 'PayloadMass', 'orbit',\n",
       "       'landpad_name', 'landpad_latitude', 'landpad_longitude',\n",
       "       'landing_attempts', 'landing_successes', 'outcome', 'year'],\n",
       "      dtype='object')"
      ]
     },
     "execution_count": 450,
     "metadata": {},
     "output_type": "execute_result"
    }
   ],
   "source": [
    "df.columns"
   ]
  },
  {
   "cell_type": "code",
   "execution_count": 460,
   "id": "65381796",
   "metadata": {
    "ExecuteTime": {
     "end_time": "2022-09-22T10:38:26.765323Z",
     "start_time": "2022-09-22T10:38:26.694863Z"
    }
   },
   "outputs": [
    {
     "data": {
      "text/plain": [
       "Text(0.5, 1.0, 'Correlation Heatmap')"
      ]
     },
     "execution_count": 460,
     "metadata": {},
     "output_type": "execute_result"
    }
   ],
   "source": [
    "#df.corr()\n",
    "columns = ['flight_number','success','flight', 'gridfins', 'legs', 'reused_x'\n",
    "           ,'landing_type','block','reuse_count', 'PayloadType', 'PayloadMass','orbit','outcome']\n",
    "\n",
    "sns.heatmap(df[columns].corr(),annot=True)\n",
    "plt.title('Correlation Heatmap')"
   ]
  }
 ],
 "metadata": {
  "kernelspec": {
   "display_name": "Python 3 (ipykernel)",
   "language": "python",
   "name": "python3"
  },
  "language_info": {
   "codemirror_mode": {
    "name": "ipython",
    "version": 3
   },
   "file_extension": ".py",
   "mimetype": "text/x-python",
   "name": "python",
   "nbconvert_exporter": "python",
   "pygments_lexer": "ipython3",
   "version": "3.9.11"
  },
  "toc": {
   "base_numbering": 1,
   "nav_menu": {},
   "number_sections": true,
   "sideBar": true,
   "skip_h1_title": false,
   "title_cell": "Table of Contents",
   "title_sidebar": "Contents",
   "toc_cell": false,
   "toc_position": {},
   "toc_section_display": true,
   "toc_window_display": false
  },
  "varInspector": {
   "cols": {
    "lenName": 16,
    "lenType": 16,
    "lenVar": 40
   },
   "kernels_config": {
    "python": {
     "delete_cmd_postfix": "",
     "delete_cmd_prefix": "del ",
     "library": "var_list.py",
     "varRefreshCmd": "print(var_dic_list())"
    },
    "r": {
     "delete_cmd_postfix": ") ",
     "delete_cmd_prefix": "rm(",
     "library": "var_list.r",
     "varRefreshCmd": "cat(var_dic_list()) "
    }
   },
   "types_to_exclude": [
    "module",
    "function",
    "builtin_function_or_method",
    "instance",
    "_Feature"
   ],
   "window_display": false
  }
 },
 "nbformat": 4,
 "nbformat_minor": 5
}
