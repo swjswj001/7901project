{
 "cells": [
  {
   "cell_type": "code",
   "execution_count": null,
   "id": "b3ef526d",
   "metadata": {
    "ExecuteTime": {
     "start_time": "2022-09-22T18:01:33.863Z"
    }
   },
   "outputs": [
    {
     "name": "stdout",
     "output_type": "stream",
     "text": [
      "Dash is running on http://127.0.0.1:8050/\n",
      "\n",
      " * Serving Flask app '__main__'\n",
      " * Debug mode: off\n"
     ]
    },
    {
     "name": "stderr",
     "output_type": "stream",
     "text": [
      "WARNING: This is a development server. Do not use it in a production deployment. Use a production WSGI server instead.\n",
      " * Running on http://127.0.0.1:8050\n",
      "Press CTRL+C to quit\n",
      "127.0.0.1 - - [23/Sep/2022 02:01:36] \"GET / HTTP/1.1\" 200 -\n",
      "127.0.0.1 - - [23/Sep/2022 02:01:36] \"GET /_dash-layout HTTP/1.1\" 200 -\n",
      "127.0.0.1 - - [23/Sep/2022 02:01:36] \"GET /_dash-dependencies HTTP/1.1\" 200 -\n",
      "127.0.0.1 - - [23/Sep/2022 02:01:36] \"GET /_dash-component-suites/dash/dcc/async-graph.js HTTP/1.1\" 304 -\n",
      "127.0.0.1 - - [23/Sep/2022 02:01:36] \"GET /_dash-component-suites/dash/dcc/async-dropdown.js HTTP/1.1\" 304 -\n",
      "127.0.0.1 - - [23/Sep/2022 02:01:36] \"GET /_dash-component-suites/dash/dcc/async-plotlyjs.js HTTP/1.1\" 304 -\n",
      "127.0.0.1 - - [23/Sep/2022 02:01:36] \"POST /_dash-update-component HTTP/1.1\" 200 -\n",
      "127.0.0.1 - - [23/Sep/2022 02:01:36] \"POST /_dash-update-component HTTP/1.1\" 200 -\n",
      "127.0.0.1 - - [23/Sep/2022 02:01:40] \"POST /_dash-update-component HTTP/1.1\" 200 -\n",
      "127.0.0.1 - - [23/Sep/2022 02:01:41] \"POST /_dash-update-component HTTP/1.1\" 200 -\n"
     ]
    }
   ],
   "source": [
    "from dash import Dash, dcc, html, Input, Output\n",
    "import pandas as pd\n",
    "import plotly.express as px\n",
    "import plotly.graph_objects as go\n",
    "import datetime as dt\n",
    "\n",
    "df = pd.read_csv('./df_final.csv')\n",
    "# The percentage of launches on each launchpad\n",
    "# data1 = df['launchpad_name'].groupby(df['launchpad_name']).count()\n",
    "# pie1 = go.Pie(values=data1,labels=data1.index)\n",
    "# lay1 = go.Layout(title=\"The percentage of launches on each launchpad\")\n",
    "# fig1 = go.Figure(data = pie1,layout=lay1)\n",
    "\n",
    "# The percentage of launches for each orbit\n",
    "data2 = df['orbit'].groupby(df['orbit']).count()\n",
    "pie2 = go.Pie(values= data2,labels=data2.index)\n",
    "lay2 = go.Layout(title = 'The percentage of launches for each orbit')\n",
    "fig2 = go.Figure(data=pie2,layout=lay2)\n",
    "\n",
    "app=Dash(__name__)\n",
    "app.layout = html.Div([\n",
    "    html.Div(children=[\n",
    "        html.H1('Predicting the outcome of space missions with data science',\n",
    "                style={'textAlign': 'center', 'color': '#7FDBFF'}),]),\n",
    "    html.Div(children = [\n",
    "        dcc.Graph(\n",
    "            id = 'first-output',\n",
    "        ),\n",
    "        html.Label('Launch Site'),\n",
    "        dcc.Dropdown(['CCSFS SLC 40','KSC LC 39A','VAFB SLC 4E'],'CCSFS SLC 40',\n",
    "                    id = 'first-site',)\n",
    "    ]),  \n",
    "    html.Div([\n",
    "        dcc.Graph(\n",
    "            figure = fig2\n",
    "        )\n",
    "    ]),\n",
    "    html.Div([\n",
    "        dcc.Graph(\n",
    "            id = 'second-output',\n",
    "        ),\n",
    "        html.Label('Orbit Type:'),\n",
    "        dcc.Dropdown(df['orbit'].unique(),'LEO',id = 'second-input')\n",
    "    ])    \n",
    "])\n",
    "\n",
    "\n",
    "@app.callback(\n",
    "    Output('first-output','figure'),\n",
    "    Input('first-site','value')\n",
    ")\n",
    "def update_graph(site):\n",
    "    data3 = df[df['launchpad_name']==site].groupby('success')['success'].count()\n",
    "    pie3 = go.Pie(values = data3,labels=data3.index)\n",
    "    lay3 = go.Layout(title=\"The success rate of launch for each launchpad\")\n",
    "    fig3 = go.Figure(data = pie3,layout=lay3)\n",
    "    return fig3\n",
    "\n",
    "@app.callback(\n",
    "    Output('second-output','figure'),\n",
    "    Input('second-input','value'),\n",
    ")\n",
    "def update_graph2(orbit):\n",
    "    data4 = df[df['orbit']==orbit].groupby('landing_success')['landing_success'].count()\n",
    "    pie4 = go.Pie(values = data4,labels=data4.index)\n",
    "    lay4 = go.Layout(title=\"The success rate of landing for each orbit\")\n",
    "    fig4 = go.Figure(data = pie4,layout=lay4)\n",
    "    return fig4\n",
    "\n",
    "if __name__ == '__main__':\n",
    "    app.run_server(debug=False)"
   ]
  }
 ],
 "metadata": {
  "kernelspec": {
   "display_name": "Python 3 (ipykernel)",
   "language": "python",
   "name": "python3"
  },
  "language_info": {
   "codemirror_mode": {
    "name": "ipython",
    "version": 3
   },
   "file_extension": ".py",
   "mimetype": "text/x-python",
   "name": "python",
   "nbconvert_exporter": "python",
   "pygments_lexer": "ipython3",
   "version": "3.9.11"
  },
  "toc": {
   "base_numbering": 1,
   "nav_menu": {},
   "number_sections": true,
   "sideBar": true,
   "skip_h1_title": false,
   "title_cell": "Table of Contents",
   "title_sidebar": "Contents",
   "toc_cell": false,
   "toc_position": {},
   "toc_section_display": true,
   "toc_window_display": false
  },
  "varInspector": {
   "cols": {
    "lenName": 16,
    "lenType": 16,
    "lenVar": 40
   },
   "kernels_config": {
    "python": {
     "delete_cmd_postfix": "",
     "delete_cmd_prefix": "del ",
     "library": "var_list.py",
     "varRefreshCmd": "print(var_dic_list())"
    },
    "r": {
     "delete_cmd_postfix": ") ",
     "delete_cmd_prefix": "rm(",
     "library": "var_list.r",
     "varRefreshCmd": "cat(var_dic_list()) "
    }
   },
   "types_to_exclude": [
    "module",
    "function",
    "builtin_function_or_method",
    "instance",
    "_Feature"
   ],
   "window_display": false
  }
 },
 "nbformat": 4,
 "nbformat_minor": 5
}
